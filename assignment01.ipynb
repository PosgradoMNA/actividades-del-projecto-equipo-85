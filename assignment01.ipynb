{
  "nbformat": 4,
  "nbformat_minor": 0,
  "metadata": {
    "colab": {
      "name": "assignment01.ipynb",
      "provenance": [],
      "include_colab_link": true
    },
    "kernelspec": {
      "name": "python3",
      "display_name": "Python 3"
    },
    "language_info": {
      "name": "python"
    }
  },
  "cells": [
    {
      "cell_type": "markdown",
      "metadata": {
        "id": "view-in-github",
        "colab_type": "text"
      },
      "source": [
        "<a href=\"https://colab.research.google.com/github/PosgradoMNA/actividades-del-projecto-equipo-85/blob/main/assignment01.ipynb\" target=\"_parent\"><img src=\"https://colab.research.google.com/assets/colab-badge.svg\" alt=\"Open In Colab\"/></a>"
      ]
    },
    {
      "cell_type": "code",
      "execution_count": null,
      "metadata": {
        "id": "LzUSMM79NR9P",
        "outputId": "0e6cb421-1096-426a-b31a-f61d059def81",
        "colab": {
          "base_uri": "https://localhost:8080/"
        }
      },
      "outputs": [
        {
          "output_type": "stream",
          "name": "stdout",
          "text": [
            "assignment01 for GitJobish03 and edited in git, and 18\n"
          ]
        }
      ],
      "source": [
        "print('assignment01 for GitJobish03 and edited in git, and 18')"
      ]
    },
    {
      "cell_type": "markdown",
      "source": [
        "## **Equipo 85**\n",
        "\n",
        "*   José Antonio Saenz Ramírez\n",
        "*   Pablo Alejandro Bravo Vargas\n",
        "\n"
      ],
      "metadata": {
        "id": "sb1qMX-F_46Q"
      }
    },
    {
      "cell_type": "markdown",
      "source": [
        "# Proyecto final - Avance 1"
      ],
      "metadata": {
        "id": "KIN3RnFPANtP"
      }
    },
    {
      "cell_type": "markdown",
      "source": [
        "# Objetivos\n",
        "\n",
        "*   Identificar las diversas fuentes de big data.\n",
        "*   Tener un conocimiento de dominio sobre una base de datos interesado."
      ],
      "metadata": {
        "id": "QPfJy2iuAbTt"
      }
    },
    {
      "cell_type": "markdown",
      "source": [
        "## Análisis"
      ],
      "metadata": {
        "id": "Vs7i1MWAFzp4"
      }
    },
    {
      "cell_type": "markdown",
      "source": [
        "**Nombre de la BDD:** Registro Administrativo de la Industria Automotriz de Vehículos Ligeros - Venta de vehículos.\n",
        "\n",
        "**Generada por:** INEGI\n",
        "\n",
        "**BDD Original:** https://www.inegi.org.mx/contenidos/datosprimarios/iavl/datosabiertos/raiavl_mensual_venta_csv.zip\n",
        "\n",
        "**BDD Normalizada (2018-2022):** https://github.com/PosgradoMNA/actividades-del-projecto-equipo-85/blob/main/baseautos.csv\n",
        "\n",
        "**Descripción de la BDD:** Esta base de datos contiene datos mensuales de número de unidades vehiculares vendidas por empresa afiliada a la Asociación Mexicana de la Industria Automotriz, A.C. (AMIA).\n",
        "\n",
        "**¿Cuáles son algunas de las preguntas de investigación que podría responder con estos datos?**\n",
        "*   ¿Cuáles es el auto más vendido en México?\n",
        "*   ¿Quién es la empresa líder en ventas en el sector automotriz en México?\n",
        "*   ¿Qué segmento representa el mayor Market Share para las Armadoras en México?\n",
        "*   ¿Cuál es el market share del segmento SUV en México?\n",
        "*   ¿Qué país representa la mayor importación de los autos vendidos en México?\n",
        "*   ¿Cuál es la tendencia de venta de autos nacionales en los últimos 5 años en México?\n",
        "\n",
        "**¿Qué actor (empresa, sector de la sociedad, organismo descentralizado, gobierno, etc.) estaría interesado en las preguntas mencionadas que identificó?** \n",
        "*   Cualquier Armadora con operaciones en México.\n",
        "*   Las Empresas Aseguradoras.\n",
        "*   La secretaría de Medio Ambiente.\n",
        "\n",
        "\n",
        "\n",
        "\n",
        "\n",
        "\n",
        "\n",
        "\n",
        "\n"
      ],
      "metadata": {
        "id": "YGDPis-aAowH"
      }
    }
  ]
}